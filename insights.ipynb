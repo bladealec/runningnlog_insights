{
 "cells": [
  {
   "cell_type": "code",
   "execution_count": null,
   "id": "0017639d",
   "metadata": {},
   "outputs": [],
   "source": [
    "import pandas as pd\n",
    "import numpy as np\n",
    "import matplotlib.pyplot as plt\n",
    "import seaborn as sns"
   ]
  },
  {
   "cell_type": "code",
   "execution_count": null,
   "id": "459826e6",
   "metadata": {},
   "outputs": [],
   "source": [
    "df = pd.read_csv('activity_log.csv')"
   ]
  },
  {
   "cell_type": "code",
   "execution_count": null,
   "id": "6dc6119b",
   "metadata": {},
   "outputs": [],
   "source": [
    "df"
   ]
  },
  {
   "cell_type": "code",
   "execution_count": null,
   "id": "709665e7",
   "metadata": {},
   "outputs": [],
   "source": [
    "def clean_numeric(column):\n",
    "    df[column] = pd.to_numeric(df[column], errors='coerce')\n",
    "\n",
    "numeric_columns = ['Distance', 'Calories', 'Avg HR', 'Max HR', 'Avg Run Cadence', 'Max Run Cadence', \n",
    "                   'Elev Gain', 'Elev Loss', 'Avg Stride Length', 'Best Lap Time', 'Number of Laps']\n",
    "\n",
    "for column in numeric_columns:\n",
    "    clean_numeric(column)\n",
    "\n",
    "def pace_to_seconds(pace):\n",
    "    try:\n",
    "        minutes, seconds = map(int, pace.split(':'))\n",
    "        return minutes * 60 + seconds\n",
    "    except:\n",
    "        return np.nan\n",
    "\n",
    "df['Avg Pace (sec)'] = df['Avg Pace'].apply(pace_to_seconds)\n",
    "df['Best Pace (sec)'] = df['Best Pace'].apply(pace_to_seconds)\n",
    "df = df[~df['Avg Pace'].str.contains(r'\\.|--', regex=True)]\n",
    "df = df[~df['Best Pace'].str.contains(r'\\.|--', regex=True)]"
   ]
  },
  {
   "cell_type": "code",
   "execution_count": null,
   "id": "dd99f8fa",
   "metadata": {},
   "outputs": [],
   "source": [
    "df"
   ]
  },
  {
   "cell_type": "code",
   "execution_count": null,
   "id": "596c85dc",
   "metadata": {},
   "outputs": [],
   "source": [
    "print(\"Dataset Information:\")\n",
    "print(df.info())\n",
    "\n",
    "print(\"\\nBasic Statistics:\")\n",
    "print(df.describe())"
   ]
  },
  {
   "cell_type": "code",
   "execution_count": null,
   "id": "204a9e56",
   "metadata": {},
   "outputs": [],
   "source": [
    "df['Avg Pace'].unique()"
   ]
  },
  {
   "cell_type": "code",
   "execution_count": null,
   "id": "a27d460d",
   "metadata": {},
   "outputs": [],
   "source": [
    "# total distance covered\n",
    "total_distance = df['Distance'].sum()\n",
    "print(f\"\\nTotal Distance Covered: {total_distance} km\")\n",
    "\n",
    "# total calories burned\n",
    "total_calories = df['Calories'].sum()\n",
    "print(f\"Total Calories Burned: {total_calories}\")\n",
    "\n",
    "# average heart rate\n",
    "average_hr = df['Avg HR'].mean()\n",
    "print(f\"Average Heart Rate: {average_hr:.2f} bpm\")\n",
    "\n",
    "# maximum heart rate\n",
    "max_hr = df['Max HR'].max()\n",
    "print(f\"Maximum Heart Rate Recorded: {max_hr} bpm\")\n",
    "\n",
    "\n"
   ]
  },
  {
   "cell_type": "code",
   "execution_count": null,
   "id": "3662e36a",
   "metadata": {},
   "outputs": [],
   "source": [
    "# average pace\n",
    "df['Avg Pace (sec)'] = df['Avg Pace'].apply(lambda x: sum(int(part) * 60 ** i for i, part in enumerate(reversed(x.split(':')))))\n",
    "average_pace = df['Avg Pace (sec)'].mean()\n",
    "print(f\"Average Pace: {60 / average_pace:.2f} km/min\")\n",
    "\n",
    "# best pace\n",
    "df['Best Pace (sec)'] = df['Best Pace'].apply(lambda x: sum(int(part) * 60 ** i for i, part in enumerate(reversed(x.split(':')))))\n",
    "best_pace = df['Best Pace (sec)'].min()\n",
    "print(f\"Best Pace: {60 / best_pace :.2f} km/min\")\n",
    "\n",
    "# elevation gain and loss\n",
    "total_elev_gain = df['Elev Gain'].sum()\n",
    "total_elev_loss = df['Elev Loss'].sum()\n",
    "print(f\"Total Elevation Gain: {total_elev_gain} m\")\n",
    "print(f\"Total Elevation Loss: {total_elev_loss} m\")\n"
   ]
  },
  {
   "cell_type": "code",
   "execution_count": null,
   "id": "519072a0",
   "metadata": {},
   "outputs": [],
   "source": [
    "# activity over time\n",
    "\n",
    "df['Date'] = pd.to_datetime(df['Date'])\n",
    "\n",
    "activity_by_date = df.groupby(df['Date'].dt.date).agg({\n",
    "    'Distance': 'sum',\n",
    "    'Calories': 'sum',\n",
    "    'Time': 'sum',\n",
    "    'Avg HR': 'mean',\n",
    "    'Max HR': 'max',\n",
    "    'Elev Gain': 'sum',\n",
    "    'Elev Loss': 'sum'\n",
    "})\n",
    "\n",
    "print(\"\\nActivity By Date:\")\n",
    "print(activity_by_date)"
   ]
  },
  {
   "cell_type": "code",
   "execution_count": null,
   "id": "13acc54d",
   "metadata": {},
   "outputs": [],
   "source": [
    "activity_by_date.reset_index(inplace=True)"
   ]
  },
  {
   "cell_type": "code",
   "execution_count": null,
   "id": "2328997d",
   "metadata": {},
   "outputs": [],
   "source": [
    "# distance over time\n",
    "plt.figure(figsize=(12, 6))\n",
    "sns.lineplot(data=activity_by_date, x='Date', y='Distance')\n",
    "plt.title('Distance Over Time')\n",
    "plt.xlabel('Date')\n",
    "plt.ylabel('Distance (miles)')\n",
    "plt.xticks(rotation=45)\n",
    "plt.tight_layout()\n",
    "plt.show()"
   ]
  },
  {
   "cell_type": "code",
   "execution_count": null,
   "id": "7b44a5cd",
   "metadata": {},
   "outputs": [],
   "source": [
    "# calories over time\n",
    "plt.figure(figsize=(12, 6))\n",
    "sns.lineplot(data=activity_by_date, x='Date', y='Calories')\n",
    "plt.title('Calories Burned Over Time')\n",
    "plt.xlabel('Date')\n",
    "plt.ylabel('Calories')\n",
    "plt.xticks(rotation=45)\n",
    "plt.tight_layout()\n",
    "plt.show()"
   ]
  },
  {
   "cell_type": "code",
   "execution_count": null,
   "id": "8e3dee6f",
   "metadata": {},
   "outputs": [],
   "source": [
    "# average heart rate over time\n",
    "plt.figure(figsize=(12, 6))\n",
    "sns.lineplot(data=activity_by_date, x='Date', y='Avg HR')\n",
    "plt.title('Average Heart Rate Over Time')\n",
    "plt.xlabel('Date')\n",
    "plt.ylabel('Average Heart Rate (bpm)')\n",
    "plt.xticks(rotation=45)\n",
    "plt.tight_layout()\n",
    "plt.show()"
   ]
  },
  {
   "cell_type": "code",
   "execution_count": null,
   "id": "e0f39208",
   "metadata": {},
   "outputs": [],
   "source": [
    "# maximum heart rate over time\n",
    "plt.figure(figsize=(12, 6))\n",
    "sns.barplot(data=activity_by_date, x='Date', y='Max HR')\n",
    "plt.title('Maximum Heart Rate Over Time')\n",
    "plt.xlabel('Date')\n",
    "plt.ylabel('Maximum Heart Rate (bpm)')\n",
    "plt.xticks(rotation=45)\n",
    "plt.tight_layout()\n",
    "plt.show()"
   ]
  },
  {
   "cell_type": "code",
   "execution_count": null,
   "id": "34057b2c",
   "metadata": {},
   "outputs": [],
   "source": [
    "# elevation change over time\n",
    "plt.figure(figsize=(12, 6))\n",
    "sns.lineplot(data=activity_by_date, x='Date', y='Elev Gain', label='Elev Gain')\n",
    "sns.lineplot(data=activity_by_date, x='Date', y='Elev Loss', label='Elev Loss')\n",
    "plt.title('Elevation Gain and Loss Over Time')\n",
    "plt.xlabel('Date')\n",
    "plt.ylabel('Elevation (feet)')\n",
    "plt.legend()\n",
    "plt.xticks(rotation=45)\n",
    "plt.tight_layout()\n",
    "plt.show()"
   ]
  },
  {
   "cell_type": "code",
   "execution_count": null,
   "id": "62a79b77",
   "metadata": {},
   "outputs": [],
   "source": []
  }
 ],
 "metadata": {
  "kernelspec": {
   "display_name": "Python 3 (ipykernel)",
   "language": "python",
   "name": "python3"
  },
  "language_info": {
   "codemirror_mode": {
    "name": "ipython",
    "version": 3
   },
   "file_extension": ".py",
   "mimetype": "text/x-python",
   "name": "python",
   "nbconvert_exporter": "python",
   "pygments_lexer": "ipython3",
   "version": "3.10.9"
  }
 },
 "nbformat": 4,
 "nbformat_minor": 5
}
